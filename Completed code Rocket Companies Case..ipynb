{
 "cells": [
  {
   "cell_type": "code",
   "execution_count": 14,
   "id": "f3e0e7ff-4e09-4bbb-bf9b-380c19ee7066",
   "metadata": {},
   "outputs": [
    {
     "name": "stdout",
     "output_type": "stream",
     "text": [
      "All libraries loaded\n"
     ]
    }
   ],
   "source": [
    "import pandas as pd\n",
    "import numpy as np\n",
    "import matplotlib.pyplot as plt\n",
    "import seaborn as sns\n",
    "import gc\n",
    "\n",
    "from sklearn.model_selection import train_test_split\n",
    "from sklearn.preprocessing import StandardScaler, LabelEncoder\n",
    "from sklearn.ensemble import RandomForestClassifier\n",
    "from sklearn.metrics import accuracy_score, classification_report, confusion_matrix, roc_auc_score\n",
    "\n",
    "print(\"All libraries loaded\")"
   ]
  },
  {
   "cell_type": "code",
   "execution_count": 15,
   "id": "af2ade77-3236-430c-bf72-2490b4436e39",
   "metadata": {},
   "outputs": [
    {
     "name": "stdout",
     "output_type": "stream",
     "text": [
      "Train Shape: (316970, 28)\n",
      "Test Shape: (79060, 27)\n"
     ]
    },
    {
     "data": {
      "text/html": [
       "<div>\n",
       "<style scoped>\n",
       "    .dataframe tbody tr th:only-of-type {\n",
       "        vertical-align: middle;\n",
       "    }\n",
       "\n",
       "    .dataframe tbody tr th {\n",
       "        vertical-align: top;\n",
       "    }\n",
       "\n",
       "    .dataframe thead th {\n",
       "        text-align: right;\n",
       "    }\n",
       "</style>\n",
       "<table border=\"1\" class=\"dataframe\">\n",
       "  <thead>\n",
       "    <tr style=\"text-align: right;\">\n",
       "      <th></th>\n",
       "      <th>Unnamed: 0</th>\n",
       "      <th>loan_amnt</th>\n",
       "      <th>term</th>\n",
       "      <th>int_rate</th>\n",
       "      <th>installment</th>\n",
       "      <th>grade</th>\n",
       "      <th>sub_grade</th>\n",
       "      <th>emp_title</th>\n",
       "      <th>emp_length</th>\n",
       "      <th>home_ownership</th>\n",
       "      <th>...</th>\n",
       "      <th>open_acc</th>\n",
       "      <th>pub_rec</th>\n",
       "      <th>revol_bal</th>\n",
       "      <th>revol_util</th>\n",
       "      <th>total_acc</th>\n",
       "      <th>initial_list_status</th>\n",
       "      <th>application_type</th>\n",
       "      <th>mort_acc</th>\n",
       "      <th>pub_rec_bankruptcies</th>\n",
       "      <th>address</th>\n",
       "    </tr>\n",
       "  </thead>\n",
       "  <tbody>\n",
       "    <tr>\n",
       "      <th>0</th>\n",
       "      <td>0</td>\n",
       "      <td>6400.0</td>\n",
       "      <td>36 months</td>\n",
       "      <td>15.61</td>\n",
       "      <td>223.78</td>\n",
       "      <td>C</td>\n",
       "      <td>C3</td>\n",
       "      <td>Accountant</td>\n",
       "      <td>&lt; 1 year</td>\n",
       "      <td>RENT</td>\n",
       "      <td>...</td>\n",
       "      <td>12.0</td>\n",
       "      <td>0.0</td>\n",
       "      <td>31228.0</td>\n",
       "      <td>97.6</td>\n",
       "      <td>22.0</td>\n",
       "      <td>f</td>\n",
       "      <td>INDIVIDUAL</td>\n",
       "      <td>0.0</td>\n",
       "      <td>0.0</td>\n",
       "      <td>354 Palmer Cove\\r\\nWest Alexa, SD 48052</td>\n",
       "    </tr>\n",
       "    <tr>\n",
       "      <th>1</th>\n",
       "      <td>1</td>\n",
       "      <td>25000.0</td>\n",
       "      <td>60 months</td>\n",
       "      <td>19.99</td>\n",
       "      <td>662.21</td>\n",
       "      <td>E</td>\n",
       "      <td>E1</td>\n",
       "      <td>Electronic Technician</td>\n",
       "      <td>10+ years</td>\n",
       "      <td>MORTGAGE</td>\n",
       "      <td>...</td>\n",
       "      <td>18.0</td>\n",
       "      <td>1.0</td>\n",
       "      <td>24755.0</td>\n",
       "      <td>42.1</td>\n",
       "      <td>64.0</td>\n",
       "      <td>f</td>\n",
       "      <td>INDIVIDUAL</td>\n",
       "      <td>7.0</td>\n",
       "      <td>1.0</td>\n",
       "      <td>8778 Lopez Street\\r\\nNew Jacqueline, TN 05113</td>\n",
       "    </tr>\n",
       "    <tr>\n",
       "      <th>2</th>\n",
       "      <td>2</td>\n",
       "      <td>15000.0</td>\n",
       "      <td>36 months</td>\n",
       "      <td>5.32</td>\n",
       "      <td>451.73</td>\n",
       "      <td>A</td>\n",
       "      <td>A1</td>\n",
       "      <td>Transportation Coordinator</td>\n",
       "      <td>10+ years</td>\n",
       "      <td>MORTGAGE</td>\n",
       "      <td>...</td>\n",
       "      <td>12.0</td>\n",
       "      <td>0.0</td>\n",
       "      <td>8925.0</td>\n",
       "      <td>23.3</td>\n",
       "      <td>23.0</td>\n",
       "      <td>w</td>\n",
       "      <td>INDIVIDUAL</td>\n",
       "      <td>4.0</td>\n",
       "      <td>0.0</td>\n",
       "      <td>21752 William Forest\\r\\nJeremyberg, WA 05113</td>\n",
       "    </tr>\n",
       "    <tr>\n",
       "      <th>3</th>\n",
       "      <td>3</td>\n",
       "      <td>16000.0</td>\n",
       "      <td>36 months</td>\n",
       "      <td>15.61</td>\n",
       "      <td>559.44</td>\n",
       "      <td>C</td>\n",
       "      <td>C3</td>\n",
       "      <td>ironworker</td>\n",
       "      <td>&lt; 1 year</td>\n",
       "      <td>RENT</td>\n",
       "      <td>...</td>\n",
       "      <td>8.0</td>\n",
       "      <td>0.0</td>\n",
       "      <td>6972.0</td>\n",
       "      <td>79.2</td>\n",
       "      <td>17.0</td>\n",
       "      <td>f</td>\n",
       "      <td>INDIVIDUAL</td>\n",
       "      <td>0.0</td>\n",
       "      <td>0.0</td>\n",
       "      <td>2707 Brittany Prairie Apt. 007\\r\\nThomasville,...</td>\n",
       "    </tr>\n",
       "    <tr>\n",
       "      <th>4</th>\n",
       "      <td>4</td>\n",
       "      <td>8725.0</td>\n",
       "      <td>36 months</td>\n",
       "      <td>12.12</td>\n",
       "      <td>290.30</td>\n",
       "      <td>B</td>\n",
       "      <td>B3</td>\n",
       "      <td>Hathaway-Sycamores child &amp; Family Serv</td>\n",
       "      <td>10+ years</td>\n",
       "      <td>MORTGAGE</td>\n",
       "      <td>...</td>\n",
       "      <td>10.0</td>\n",
       "      <td>0.0</td>\n",
       "      <td>25397.0</td>\n",
       "      <td>45.8</td>\n",
       "      <td>32.0</td>\n",
       "      <td>f</td>\n",
       "      <td>INDIVIDUAL</td>\n",
       "      <td>7.0</td>\n",
       "      <td>0.0</td>\n",
       "      <td>PSC 1131, Box 5667\\r\\nAPO AA 00813</td>\n",
       "    </tr>\n",
       "  </tbody>\n",
       "</table>\n",
       "<p>5 rows × 28 columns</p>\n",
       "</div>"
      ],
      "text/plain": [
       "   Unnamed: 0  loan_amnt        term  int_rate  installment grade sub_grade  \\\n",
       "0           0     6400.0   36 months     15.61       223.78     C        C3   \n",
       "1           1    25000.0   60 months     19.99       662.21     E        E1   \n",
       "2           2    15000.0   36 months      5.32       451.73     A        A1   \n",
       "3           3    16000.0   36 months     15.61       559.44     C        C3   \n",
       "4           4     8725.0   36 months     12.12       290.30     B        B3   \n",
       "\n",
       "                                emp_title emp_length home_ownership  ...  \\\n",
       "0                             Accountant    < 1 year           RENT  ...   \n",
       "1                   Electronic Technician  10+ years       MORTGAGE  ...   \n",
       "2              Transportation Coordinator  10+ years       MORTGAGE  ...   \n",
       "3                              ironworker   < 1 year           RENT  ...   \n",
       "4  Hathaway-Sycamores child & Family Serv  10+ years       MORTGAGE  ...   \n",
       "\n",
       "   open_acc pub_rec revol_bal revol_util total_acc initial_list_status  \\\n",
       "0      12.0     0.0   31228.0       97.6      22.0                   f   \n",
       "1      18.0     1.0   24755.0       42.1      64.0                   f   \n",
       "2      12.0     0.0    8925.0       23.3      23.0                   w   \n",
       "3       8.0     0.0    6972.0       79.2      17.0                   f   \n",
       "4      10.0     0.0   25397.0       45.8      32.0                   f   \n",
       "\n",
       "   application_type mort_acc  pub_rec_bankruptcies  \\\n",
       "0        INDIVIDUAL      0.0                   0.0   \n",
       "1        INDIVIDUAL      7.0                   1.0   \n",
       "2        INDIVIDUAL      4.0                   0.0   \n",
       "3        INDIVIDUAL      0.0                   0.0   \n",
       "4        INDIVIDUAL      7.0                   0.0   \n",
       "\n",
       "                                             address  \n",
       "0            354 Palmer Cove\\r\\nWest Alexa, SD 48052  \n",
       "1      8778 Lopez Street\\r\\nNew Jacqueline, TN 05113  \n",
       "2       21752 William Forest\\r\\nJeremyberg, WA 05113  \n",
       "3  2707 Brittany Prairie Apt. 007\\r\\nThomasville,...  \n",
       "4                 PSC 1131, Box 5667\\r\\nAPO AA 00813  \n",
       "\n",
       "[5 rows x 28 columns]"
      ]
     },
     "execution_count": 15,
     "metadata": {},
     "output_type": "execute_result"
    }
   ],
   "source": [
    "# Load only a portion of the data to prevent memory issues\n",
    "train_df = pd.read_csv('train.csv')\n",
    "test_df = pd.read_csv('test.csv')\n",
    "\n",
    "# Display basic info\n",
    "print(\"Train Shape:\", train_df.shape)\n",
    "print(\"Test Shape:\", test_df.shape)\n",
    "\n",
    "train_df.head()"
   ]
  },
  {
   "cell_type": "code",
   "execution_count": 16,
   "id": "626ee640-7ca6-41d3-9aa2-8f2433452064",
   "metadata": {},
   "outputs": [
    {
     "name": "stdout",
     "output_type": "stream",
     "text": [
      "Missing values in train dataset:\n",
      "mort_acc                30217\n",
      "emp_title               18398\n",
      "emp_length              14676\n",
      "title                    1397\n",
      "pub_rec_bankruptcies      430\n",
      "revol_util                213\n",
      "grade                       0\n",
      "installment                 0\n",
      "int_rate                    0\n",
      "term                        0\n",
      "Unnamed: 0                  0\n",
      "loan_amnt                   0\n",
      "verification_status         0\n",
      "annual_inc                  0\n",
      "home_ownership              0\n",
      "sub_grade                   0\n",
      "dti                         0\n",
      "issue_d                     0\n",
      "loan_status                 0\n",
      "purpose                     0\n",
      "pub_rec                     0\n",
      "open_acc                    0\n",
      "earliest_cr_line            0\n",
      "revol_bal                   0\n",
      "initial_list_status         0\n",
      "total_acc                   0\n",
      "application_type            0\n",
      "address                     0\n",
      "dtype: int64\n",
      "\n",
      "Column types:\n",
      "Unnamed: 0                int64\n",
      "loan_amnt               float64\n",
      "term                     object\n",
      "int_rate                float64\n",
      "installment             float64\n",
      "grade                    object\n",
      "sub_grade                object\n",
      "emp_title                object\n",
      "emp_length               object\n",
      "home_ownership           object\n",
      "annual_inc              float64\n",
      "verification_status      object\n",
      "issue_d                  object\n",
      "loan_status              object\n",
      "purpose                  object\n",
      "title                    object\n",
      "dti                     float64\n",
      "earliest_cr_line         object\n",
      "open_acc                float64\n",
      "pub_rec                 float64\n",
      "revol_bal               float64\n",
      "revol_util              float64\n",
      "total_acc               float64\n",
      "initial_list_status      object\n",
      "application_type         object\n",
      "mort_acc                float64\n",
      "pub_rec_bankruptcies    float64\n",
      "address                  object\n",
      "dtype: object\n"
     ]
    }
   ],
   "source": [
    "# Check for missing values\n",
    "print(\"Missing values in train dataset:\")\n",
    "print(train_df.isnull().sum().sort_values(ascending=False))\n",
    "\n",
    "# Check column data types\n",
    "print(\"\\nColumn types:\")\n",
    "print(train_df.dtypes)\n"
   ]
  },
  {
   "cell_type": "code",
   "execution_count": 17,
   "id": "4de48be2-dceb-4a8f-a064-2f19910e5722",
   "metadata": {},
   "outputs": [
    {
     "name": "stdout",
     "output_type": "stream",
     "text": [
      "Columns dropped successfully.\n"
     ]
    }
   ],
   "source": [
    "# Drop columns that are not useful or have too many missing values\n",
    "columns_to_drop = ['emp_title', 'title', 'address']  # Adjust as needed\n",
    "\n",
    "train_df = train_df.drop(columns=[col for col in columns_to_drop if col in train_df.columns], errors='ignore')\n",
    "test_df = test_df.drop(columns=[col for col in columns_to_drop if col in test_df.columns], errors='ignore')\n",
    "\n",
    "train_df.rename(columns=lambda x: x.strip(), inplace=True)  # Removes extra spaces\n",
    "\n",
    "\n",
    "print(\"Columns dropped successfully.\")\n"
   ]
  },
  {
   "cell_type": "code",
   "execution_count": 18,
   "id": "3283b1be-e517-4372-a03d-bba7038870b6",
   "metadata": {},
   "outputs": [
    {
     "name": "stdout",
     "output_type": "stream",
     "text": [
      "Missing values filled.\n"
     ]
    }
   ],
   "source": [
    "# Fill missing values in numerical columns with median\n",
    "numerical_columns = train_df.select_dtypes(include=['number']).columns.tolist()\n",
    "\n",
    "# Ensure we don't modify 'loan_status' (target variable) in train_df\n",
    "if 'loan_status' in numerical_columns:\n",
    "    numerical_columns.remove('loan_status')\n",
    "\n",
    "train_df[numerical_columns] = train_df[numerical_columns].fillna(train_df[numerical_columns].median())\n",
    "\n",
    "# Only fill numerical columns that exist in test_df\n",
    "numerical_columns_test = [col for col in numerical_columns if col in test_df.columns]\n",
    "test_df[numerical_columns_test] = test_df[numerical_columns_test].fillna(test_df[numerical_columns_test].median())\n",
    "\n",
    "# Fill missing values in categorical columns with mode\n",
    "categorical_columns = train_df.select_dtypes(include=['object']).columns.tolist()\n",
    "\n",
    "for col in categorical_columns:\n",
    "    train_df[col] = train_df[col].fillna(train_df[col].mode()[0])\n",
    "\n",
    "    # Only fill categorical columns that exist in test_df\n",
    "    if col in test_df.columns:\n",
    "        test_df[col] = test_df[col].fillna(test_df[col].mode()[0])\n",
    "\n",
    "print(\"Missing values filled.\")\n"
   ]
  },
  {
   "cell_type": "code",
   "execution_count": 19,
   "id": "308c58dd-9dad-4c3e-bd9f-9d460fe0cf2e",
   "metadata": {},
   "outputs": [
    {
     "name": "stdout",
     "output_type": "stream",
     "text": [
      "Successfully converted 'term' column.\n"
     ]
    }
   ],
   "source": [
    "# Ensure 'term' column is treated as a string before extracting numbers\n",
    "train_df['term'] = train_df['term'].astype(str).str.extract('(\\d+)').astype(float)\n",
    "test_df['term'] = test_df['term'].astype(str).str.extract('(\\d+)').astype(float)\n",
    "\n",
    "print(\"Successfully converted 'term' column.\")\n"
   ]
  },
  {
   "cell_type": "code",
   "execution_count": 20,
   "id": "13af9391-b9ae-457b-8fa2-ddb14c42c81a",
   "metadata": {},
   "outputs": [
    {
     "name": "stdout",
     "output_type": "stream",
     "text": [
      "Numerical features scaled.\n"
     ]
    }
   ],
   "source": [
    "# Select numerical columns\n",
    "numerical_features = ['loan_amnt', 'int_rate', 'annual_inc', 'dti', 'revol_bal']\n",
    "\n",
    "# Apply Standard Scaling\n",
    "scaler = StandardScaler()\n",
    "train_df[numerical_features] = scaler.fit_transform(train_df[numerical_features])\n",
    "test_df[numerical_features] = scaler.transform(test_df[numerical_features])\n",
    "\n",
    "print(\"Numerical features scaled.\")\n"
   ]
  },
  {
   "cell_type": "code",
   "execution_count": 21,
   "id": "20e171ee-f66f-4a06-9ce1-890b174a6e49",
   "metadata": {},
   "outputs": [
    {
     "name": "stdout",
     "output_type": "stream",
     "text": [
      "Data split into training and validation sets.\n",
      "Index(['Unnamed: 0', 'loan_amnt', 'term', 'int_rate', 'installment', 'grade',\n",
      "       'sub_grade', 'emp_length', 'home_ownership', 'annual_inc',\n",
      "       'verification_status', 'issue_d', 'loan_status', 'purpose', 'dti',\n",
      "       'earliest_cr_line', 'open_acc', 'pub_rec', 'revol_bal', 'revol_util',\n",
      "       'total_acc', 'initial_list_status', 'application_type', 'mort_acc',\n",
      "       'pub_rec_bankruptcies'],\n",
      "      dtype='object')\n"
     ]
    }
   ],
   "source": [
    "# Verify if 'loan_status' exists in train_df before splitting\n",
    "if 'loan_status' not in train_df.columns:\n",
    "    print(\"Error: 'loan_status' column not found in train_df. Check data processing steps.\")\n",
    "else:\n",
    "    # Define features and target\n",
    "    X = train_df.drop(columns=['loan_status'])\n",
    "    y = train_df['loan_status']\n",
    "\n",
    "    # Split data into training and validation sets\n",
    "    X_train, X_val, y_train, y_val = train_test_split(X, y, test_size=0.2, random_state=42)\n",
    "\n",
    "    print(\"Data split into training and validation sets.\")\n",
    "\n",
    "\n",
    "# Reload 'loan_status' from the original dataset\n",
    "original_train_df = pd.read_csv('train.csv', nrows=100000)\n",
    "\n",
    "# Ensure it’s only added if missing\n",
    "if 'loan_status' not in train_df.columns:\n",
    "    train_df['loan_status'] = original_train_df['loan_status']\n",
    "    print(\"Recovered 'loan_status' column.\")\n",
    "\n",
    "print(train_df.columns)"
   ]
  },
  {
   "cell_type": "code",
   "execution_count": 22,
   "id": "4971653e-e596-483b-b2eb-c4b3ad34d735",
   "metadata": {},
   "outputs": [
    {
     "name": "stdout",
     "output_type": "stream",
     "text": [
      "Data split into training and validation sets.\n"
     ]
    }
   ],
   "source": [
    "if 'loan_status' in train_df.columns:\n",
    "    X = train_df.drop(columns=['loan_status'])\n",
    "    y = train_df['loan_status']\n",
    "\n",
    "    # Split data into training and validation sets\n",
    "    X_train, X_val, y_train, y_val = train_test_split(X, y, test_size=0.2, random_state=42)\n",
    "\n",
    "    print(\"Data split into training and validation sets.\")\n",
    "else:\n",
    "    print(\"Error: 'loan_status' is still missing. Check earlier processing steps.\")\n"
   ]
  },
  {
   "cell_type": "code",
   "execution_count": 23,
   "id": "88b53f3b-6eae-4b90-9d70-d6554664f016",
   "metadata": {},
   "outputs": [
    {
     "name": "stdout",
     "output_type": "stream",
     "text": [
      "Non-numeric columns in X_train: ['grade', 'sub_grade', 'emp_length', 'home_ownership', 'verification_status', 'issue_d', 'purpose', 'earliest_cr_line', 'initial_list_status', 'application_type']\n",
      "Categorical features encoded successfully.\n",
      "['grade', 'sub_grade', 'emp_length', 'home_ownership', 'verification_status', 'issue_d', 'purpose', 'earliest_cr_line', 'initial_list_status', 'application_type']\n",
      "Model training complete.\n"
     ]
    }
   ],
   "source": [
    "# Check for non-numeric columns in X_train\n",
    "non_numeric_cols = X_train.select_dtypes(include=['object']).columns.tolist()\n",
    "print(\"Non-numeric columns in X_train:\", non_numeric_cols)\n",
    "\n",
    "# Identify categorical columns (excluding the target variable)\n",
    "cat_columns = train_df.select_dtypes(include=['object']).columns.tolist()\n",
    "\n",
    "# Apply One-Hot Encoding to all categorical columns\n",
    "train_df = pd.get_dummies(train_df, columns=cat_columns, drop_first=True)\n",
    "test_df = pd.get_dummies(test_df, columns=[col for col in cat_columns if col in test_df.columns], drop_first=True)\n",
    "\n",
    "# Ensure train and test datasets have the same columns\n",
    "missing_cols = set(train_df.columns) - set(test_df.columns)\n",
    "for col in missing_cols:\n",
    "    test_df[col] = 0  # Add missing columns in test set\n",
    "\n",
    "# Ensure test_df matches train_df's column order (excluding 'loan_status')\n",
    "test_df = test_df[train_df.columns.drop('loan_status', errors='ignore')]\n",
    "\n",
    "print(\"Categorical features encoded successfully.\")\n",
    "\n",
    "print(X_train.select_dtypes(include=['object']).columns.tolist())  # Should return []\n",
    "\n",
    "for col in X_train.select_dtypes(include=['object']).columns:\n",
    "    X_train[col] = X_train[col].astype('category').cat.codes\n",
    "    X_val[col] = X_val[col].astype('category').cat.codes\n",
    "\n",
    "if 'X_train' in locals():\n",
    "    random_model = RandomForestClassifier(n_estimators=50, max_depth=10, random_state=42)\n",
    "    random_model.fit(X_train, y_train)\n",
    "\n",
    "    # Predict on validation set\n",
    "    y_pred = random_model.predict(X_val)\n",
    "\n",
    "    print(\"Model training complete.\")\n",
    "else:\n",
    "    print(\"Error: X_train is still missing. Check previous steps.\")\n"
   ]
  },
  {
   "cell_type": "code",
   "execution_count": 24,
   "id": "e3eb1395-af26-4188-9ca9-41f7221a869c",
   "metadata": {},
   "outputs": [
    {
     "name": "stdout",
     "output_type": "stream",
     "text": [
      "Model Accuracy: 0.8043\n",
      "Classification Report:\n",
      "               precision    recall  f1-score   support\n",
      "\n",
      " Charged Off       0.60      0.04      0.07     12558\n",
      "  Fully Paid       0.81      0.99      0.89     50836\n",
      "\n",
      "    accuracy                           0.80     63394\n",
      "   macro avg       0.70      0.52      0.48     63394\n",
      "weighted avg       0.77      0.80      0.73     63394\n",
      "\n"
     ]
    },
    {
     "data": {
      "image/png": "[encoded data removed]",
      "text/plain": [
       "<Figure size 600x400 with 2 Axes>"
      ]
     },
     "metadata": {},
     "output_type": "display_data"
    },
    {
     "name": "stdout",
     "output_type": "stream",
     "text": [
      "ROC-AUC Score: 0.7093\n"
     ]
    }
   ],
   "source": [
    "# Accuracy Score\n",
    "accuracy = accuracy_score(y_val, y_pred)\n",
    "print(f\"Model Accuracy: {accuracy:.4f}\")\n",
    "\n",
    "# Classification Report\n",
    "print(\"Classification Report:\\n\", classification_report(y_val, y_pred))\n",
    "\n",
    "# Confusion Matrix\n",
    "plt.figure(figsize=(6, 4))\n",
    "sns.heatmap(confusion_matrix(y_val, y_pred), annot=True, fmt='d', cmap='Blues')\n",
    "plt.title(\"Confusion Matrix\")\n",
    "plt.xlabel(\"Predicted\")\n",
    "plt.ylabel(\"Actual\")\n",
    "plt.show()\n",
    "\n",
    "# ROC-AUC Score\n",
    "roc_auc = roc_auc_score(y_val, random_model.predict_proba(X_val)[:, 1])\n",
    "print(f\"ROC-AUC Score: {roc_auc:.4f}\")\n"
   ]
  }
 ],
 "metadata": {
  "kernelspec": {
   "display_name": "Python 3.11 (default)",
   "language": "python",
   "name": "python3"
  },
  "language_info": {
   "codemirror_mode": {
    "name": "ipython",
    "version": 3
   },
   "file_extension": ".py",
   "mimetype": "text/x-python",
   "name": "python",
   "nbconvert_exporter": "python",
   "pygments_lexer": "ipython3",
   "version": "3.11.11"
  }
 },
 "nbformat": 4,
 "nbformat_minor": 5
}
